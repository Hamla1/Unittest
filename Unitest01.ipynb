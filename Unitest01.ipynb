{
  "nbformat": 4,
  "nbformat_minor": 0,
  "metadata": {
    "colab": {
      "provenance": []
    },
    "kernelspec": {
      "name": "python3",
      "display_name": "Python 3"
    },
    "language_info": {
      "name": "python"
    }
  },
  "cells": [
    {
      "cell_type": "code",
      "execution_count": null,
      "metadata": {
        "colab": {
          "base_uri": "https://localhost:8080/"
        },
        "id": "A1o0mTnOi21A",
        "outputId": "b17b8dbb-67a7-4a25-e951-da5c2fb8a75f"
      },
      "outputs": [
        {
          "output_type": "stream",
          "name": "stderr",
          "text": [
            "F..\n",
            "======================================================================\n",
            "FAIL: test_suma_negativos (__main__.TestSuma)\n",
            "----------------------------------------------------------------------\n",
            "Traceback (most recent call last):\n",
            "  File \"<ipython-input-2-96816754e6d5>\", line 16, in test_suma_negativos\n",
            "    self.assertEqual(suma(-1, -3), 5)\n",
            "AssertionError: 0 != 5\n",
            "\n",
            "----------------------------------------------------------------------\n",
            "Ran 3 tests in 0.008s\n",
            "\n",
            "FAILED (failures=1)\n"
          ]
        }
      ],
      "source": [
        "#PRUEBA UNITARIA MEDIANTE PYTHON CON JUPYTER NOTEBOOK\n",
        "#SEMANA 03 - UPN - HML\n",
        "def suma(a, b):\n",
        "    if a < 0 and b < 0:\n",
        "        return 0\n",
        "    return a + b\n",
        "\n",
        "import unittest\n",
        "\n",
        "class TestSuma(unittest.TestCase):\n",
        "    def test_suma_positivos(self):\n",
        "        self.assertEqual(suma(1, 2), 3)\n",
        "\n",
        "    def test_suma_negativos(self):\n",
        "\n",
        "        # Este test fallará debido al error introducido en la función suma\n",
        "        self.assertEqual(suma(-1, -3), 5)\n",
        "\n",
        "    def test_suma_positivo_negativo(self):\n",
        "        # Cambiamos el resultado esperado a un valor incorrecto intencionalmente\n",
        "        self.assertEqual(suma(1, -1), 0)\n",
        "\n",
        "if __name__ == '__main__':\n",
        "    unittest.TextTestRunner().run(unittest.makeSuite(TestSuma))"
      ]
    }
  ]
}